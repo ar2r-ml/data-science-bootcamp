{
  "nbformat": 4,
  "nbformat_minor": 0,
  "metadata": {
    "colab": {
      "provenance": [],
      "authorship_tag": "ABX9TyPv+scF75UbWUqljueGyqow",
      "include_colab_link": true
    },
    "kernelspec": {
      "name": "python3",
      "display_name": "Python 3"
    },
    "language_info": {
      "name": "python"
    }
  },
  "cells": [
    {
      "cell_type": "markdown",
      "metadata": {
        "id": "view-in-github",
        "colab_type": "text"
      },
      "source": [
        "<a href=\"https://colab.research.google.com/github/ar2r-ml/data-science-bootcamp/blob/main/template.ipynb\" target=\"_parent\"><img src=\"https://colab.research.google.com/assets/colab-badge.svg\" alt=\"Open In Colab\"/></a>"
      ]
    },
    {
      "cell_type": "code",
      "execution_count": 2,
      "metadata": {
        "colab": {
          "base_uri": "https://localhost:8080/"
        },
        "id": "54fJSpn2WUd2",
        "outputId": "1c23ba00-8f10-4a87-8153-d3ed07f31264"
      },
      "outputs": [
        {
          "output_type": "stream",
          "name": "stdout",
          "text": [
            "Hallo Colab\n"
          ]
        }
      ],
      "source": [
        "print('Hallo Colab')"
      ]
    },
    {
      "cell_type": "markdown",
      "source": [
        "### tekst"
      ],
      "metadata": {
        "id": "LvHz4KfrWu4p"
      }
    },
    {
      "cell_type": "code",
      "source": [],
      "metadata": {
        "id": "Bw26YUW2W_LL"
      },
      "execution_count": 2,
      "outputs": []
    }
  ]
}